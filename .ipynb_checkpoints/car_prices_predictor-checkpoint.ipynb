{
 "cells": [
  {
   "cell_type": "markdown",
   "metadata": {},
   "source": [
    "# Car price prediction using Python"
   ]
  },
  {
   "cell_type": "code",
   "execution_count": 11,
   "metadata": {
    "collapsed": true
   },
   "outputs": [],
   "source": [
    "import os\n",
    "from sklearn import linear_model, metrics\n",
    "import numpy as np\n",
    "import matplotlib.pyplot as plt\n",
    "import pandas as pd\n",
    "import matplotlib.image as mpimg"
   ]
  },
  {
   "cell_type": "markdown",
   "metadata": {},
   "source": [
    "### Define a helper function that we'll use later to predict and evaluate the results"
   ]
  },
  {
   "cell_type": "code",
   "execution_count": 3,
   "metadata": {
    "collapsed": true
   },
   "outputs": [],
   "source": [
    "def predict_and_plot(model, test_set, plot_title):\n",
    "\n",
    "    # Let's turn the data into something more readable    \n",
    "    test_set_elements_count = test_set.shape[0]\n",
    "    test_features = np.float64(test_set[0:test_set_elements_count, 0:3])\n",
    "    real_prices = np.float64(test_set[0:test_set_elements_count, 3])\n",
    "    car_names = test_set[0:test_set_elements_count, 4]\n",
    "    \n",
    "    # Do the prediction\n",
    "    predicted_prices = model.predict(test_features)\n",
    "\n",
    "    # Compare the predicted price vs the real price rendering a graph\n",
    "    x_ind = np.arange(test_set_elements_count)\n",
    "    fig = plt.figure()\n",
    "    plt.scatter(x_ind, predicted_prices,   label=\"predicted price\")\n",
    "    plt.scatter(x_ind, real_prices,  label=\"real price\")\n",
    "    plt.xticks(x_ind, car_names, rotation='vertical')\n",
    "    plt.legend(loc='best')\n",
    "    fig.suptitle(plot_title, fontsize=20)\n",
    "    plt.show()\n",
    "    \n",
    "    # Get the regression score\n",
    "    # http://scikit-learn.org/stable/modules/generated/sklearn.metrics.r2_score.html#sklearn.metrics.r2_score\n",
    "    print (\"R^2 Regression score:\", metrics.r2_score(real_prices, predicted_prices))"
   ]
  },
  {
   "cell_type": "markdown",
   "metadata": {},
   "source": [
    "## Step 1: Collect Training Data"
   ]
  },
  {
   "cell_type": "code",
   "execution_count": 10,
   "metadata": {},
   "outputs": [
    {
     "data": {
      "text/html": [
       "<div>\n",
       "<style>\n",
       "    .dataframe thead tr:only-child th {\n",
       "        text-align: right;\n",
       "    }\n",
       "\n",
       "    .dataframe thead th {\n",
       "        text-align: left;\n",
       "    }\n",
       "\n",
       "    .dataframe tbody tr th {\n",
       "        vertical-align: top;\n",
       "    }\n",
       "</style>\n",
       "<table border=\"1\" class=\"dataframe\">\n",
       "  <thead>\n",
       "    <tr style=\"text-align: right;\">\n",
       "      <th></th>\n",
       "      <th>MPG</th>\n",
       "      <th>HP</th>\n",
       "      <th>Rating</th>\n",
       "      <th>Price</th>\n",
       "      <th>Name</th>\n",
       "    </tr>\n",
       "  </thead>\n",
       "  <tbody>\n",
       "    <tr>\n",
       "      <th>0</th>\n",
       "      <td>30</td>\n",
       "      <td>138</td>\n",
       "      <td>4.7</td>\n",
       "      <td>15220</td>\n",
       "      <td>Sonic</td>\n",
       "    </tr>\n",
       "    <tr>\n",
       "      <th>1</th>\n",
       "      <td>32</td>\n",
       "      <td>120</td>\n",
       "      <td>4.7</td>\n",
       "      <td>15455</td>\n",
       "      <td>Fiesta</td>\n",
       "    </tr>\n",
       "    <tr>\n",
       "      <th>2</th>\n",
       "      <td>30</td>\n",
       "      <td>109</td>\n",
       "      <td>4.2</td>\n",
       "      <td>12855</td>\n",
       "      <td>Versa</td>\n",
       "    </tr>\n",
       "    <tr>\n",
       "      <th>3</th>\n",
       "      <td>31</td>\n",
       "      <td>138</td>\n",
       "      <td>4.8</td>\n",
       "      <td>15015</td>\n",
       "      <td>Rio</td>\n",
       "    </tr>\n",
       "    <tr>\n",
       "      <th>4</th>\n",
       "      <td>31</td>\n",
       "      <td>158</td>\n",
       "      <td>4.7</td>\n",
       "      <td>19515</td>\n",
       "      <td>Civic</td>\n",
       "    </tr>\n",
       "    <tr>\n",
       "      <th>5</th>\n",
       "      <td>31</td>\n",
       "      <td>145</td>\n",
       "      <td>4.4</td>\n",
       "      <td>18085</td>\n",
       "      <td>Elantra</td>\n",
       "    </tr>\n",
       "    <tr>\n",
       "      <th>6</th>\n",
       "      <td>31</td>\n",
       "      <td>132</td>\n",
       "      <td>4.5</td>\n",
       "      <td>18185</td>\n",
       "      <td>Corolla</td>\n",
       "    </tr>\n",
       "    <tr>\n",
       "      <th>7</th>\n",
       "      <td>29</td>\n",
       "      <td>138</td>\n",
       "      <td>4.8</td>\n",
       "      <td>16995</td>\n",
       "      <td>Cruze</td>\n",
       "    </tr>\n",
       "    <tr>\n",
       "      <th>8</th>\n",
       "      <td>25</td>\n",
       "      <td>175</td>\n",
       "      <td>4.9</td>\n",
       "      <td>23485</td>\n",
       "      <td>Fussion</td>\n",
       "    </tr>\n",
       "    <tr>\n",
       "      <th>9</th>\n",
       "      <td>27</td>\n",
       "      <td>185</td>\n",
       "      <td>4.8</td>\n",
       "      <td>23080</td>\n",
       "      <td>Accord</td>\n",
       "    </tr>\n",
       "    <tr>\n",
       "      <th>10</th>\n",
       "      <td>31</td>\n",
       "      <td>182</td>\n",
       "      <td>4.8</td>\n",
       "      <td>23365</td>\n",
       "      <td>Altima</td>\n",
       "    </tr>\n",
       "    <tr>\n",
       "      <th>11</th>\n",
       "      <td>28</td>\n",
       "      <td>178</td>\n",
       "      <td>4.6</td>\n",
       "      <td>23955</td>\n",
       "      <td>Camry</td>\n",
       "    </tr>\n",
       "    <tr>\n",
       "      <th>12</th>\n",
       "      <td>31</td>\n",
       "      <td>184</td>\n",
       "      <td>4.7</td>\n",
       "      <td>22330</td>\n",
       "      <td>Mazda 6</td>\n",
       "    </tr>\n",
       "    <tr>\n",
       "      <th>13</th>\n",
       "      <td>23</td>\n",
       "      <td>292</td>\n",
       "      <td>4.8</td>\n",
       "      <td>29090</td>\n",
       "      <td>Charger</td>\n",
       "    </tr>\n",
       "    <tr>\n",
       "      <th>14</th>\n",
       "      <td>24</td>\n",
       "      <td>268</td>\n",
       "      <td>4.9</td>\n",
       "      <td>33535</td>\n",
       "      <td>Avalon</td>\n",
       "    </tr>\n",
       "    <tr>\n",
       "      <th>15</th>\n",
       "      <td>23</td>\n",
       "      <td>292</td>\n",
       "      <td>4.7</td>\n",
       "      <td>33355</td>\n",
       "      <td>300</td>\n",
       "    </tr>\n",
       "    <tr>\n",
       "      <th>16</th>\n",
       "      <td>22</td>\n",
       "      <td>293</td>\n",
       "      <td>4.6</td>\n",
       "      <td>33840</td>\n",
       "      <td>Cadenza</td>\n",
       "    </tr>\n",
       "  </tbody>\n",
       "</table>\n",
       "</div>"
      ],
      "text/plain": [
       "    MPG   HP  Rating  Price     Name\n",
       "0    30  138     4.7  15220    Sonic\n",
       "1    32  120     4.7  15455   Fiesta\n",
       "2    30  109     4.2  12855    Versa\n",
       "3    31  138     4.8  15015      Rio\n",
       "4    31  158     4.7  19515    Civic\n",
       "5    31  145     4.4  18085  Elantra\n",
       "6    31  132     4.5  18185  Corolla\n",
       "7    29  138     4.8  16995    Cruze\n",
       "8    25  175     4.9  23485  Fussion\n",
       "9    27  185     4.8  23080   Accord\n",
       "10   31  182     4.8  23365   Altima\n",
       "11   28  178     4.6  23955    Camry\n",
       "12   31  184     4.7  22330  Mazda 6\n",
       "13   23  292     4.8  29090  Charger\n",
       "14   24  268     4.9  33535   Avalon\n",
       "15   23  292     4.7  33355      300\n",
       "16   22  293     4.6  33840  Cadenza"
      ]
     },
     "execution_count": 10,
     "metadata": {},
     "output_type": "execute_result"
    }
   ],
   "source": [
    "# https://www.cars.com/research/compare/\n",
    "df = pd.read_csv('.\\\\car_prices.csv')\n",
    "# Let's look at the data\n",
    "#df.shape\n",
    "#df.columns\n",
    "df"
   ]
  },
  {
   "cell_type": "markdown",
   "metadata": {},
   "source": [
    "### Let's get the features and prices from the dataframe so we can train the model"
   ]
  },
  {
   "cell_type": "code",
   "execution_count": 16,
   "metadata": {},
   "outputs": [],
   "source": [
    "features = df.as_matrix(columns= df.columns[0:3])\n",
    "prices = df.as_matrix(columns= df.columns[3:4])\n",
    "#features\n",
    "#prices"
   ]
  },
  {
   "cell_type": "markdown",
   "metadata": {},
   "source": [
    "## Step 2: Train Model"
   ]
  },
  {
   "cell_type": "code",
   "execution_count": 7,
   "metadata": {
    "scrolled": true
   },
   "outputs": [
    {
     "data": {
      "text/plain": [
       "LogisticRegression(C=1.0, class_weight=None, dual=False, fit_intercept=True,\n",
       "          intercept_scaling=1, max_iter=100, multi_class='ovr', n_jobs=1,\n",
       "          penalty='l2', random_state=None, solver='liblinear', tol=0.0001,\n",
       "          verbose=0, warm_start=False)"
      ]
     },
     "execution_count": 7,
     "metadata": {},
     "output_type": "execute_result"
    }
   ],
   "source": [
    "logistic_regression_model = linear_model.LogisticRegression()\n",
    "logistic_regression_model.fit(features, prices)"
   ]
  },
  {
   "cell_type": "code",
   "execution_count": null,
   "metadata": {
    "collapsed": true
   },
   "outputs": [],
   "source": []
  },
  {
   "cell_type": "markdown",
   "metadata": {},
   "source": [
    "## Step 3: Evaluate Model"
   ]
  },
  {
   "cell_type": "code",
   "execution_count": null,
   "metadata": {
    "collapsed": true
   },
   "outputs": [],
   "source": [
    "# https://www.cars.com/research/compare/?acodes=USC60KIC052A0,USC60FOC071A0,USC60BUC081A0\n",
    "#                     MPG, HP,   Rating,  Price,  Name\n",
    "test_set = np.array([[28,  185,  4.9,     22990,  \"Kia Optima\"],\n",
    "                     [21,  240,  4.8,     28095,  \"Ford Taurus\"],\n",
    "                     [23,  304,  4.3,     31990,  \"Buick Lacrosse\"],\n",
    "                     [30,  240,  5.0,     34150,  \"Volvo S60\"],\n",
    "                     [28,  150,  4.9,     22610,  \"Volkswagen Jetta\"],\n",
    "                     [35,  106,  4.0,     15700,  \"Scion iA\"],])\n",
    "\n",
    "predict_and_plot(logistic_regression_model, test_set, \"Logistic regression\")\n"
   ]
  },
  {
   "cell_type": "markdown",
   "metadata": {},
   "source": [
    "## Repeat 2 and 3: Train a model and re-evaluate "
   ]
  },
  {
   "cell_type": "code",
   "execution_count": 10,
   "metadata": {},
   "outputs": [
    {
     "data": {
      "text/plain": [
       "PassiveAggressiveRegressor(C=1.0, epsilon=0.1, fit_intercept=True,\n",
       "              loss='epsilon_insensitive', n_iter=5, random_state=None,\n",
       "              shuffle=True, verbose=0, warm_start=False)"
      ]
     },
     "execution_count": 10,
     "metadata": {},
     "output_type": "execute_result"
    }
   ],
   "source": [
    "passive_aggressive_model = linear_model.PassiveAggressiveRegressor() # Must be a Seattle thing.\n",
    "passive_aggressive_model.fit(features, prices)"
   ]
  },
  {
   "cell_type": "code",
   "execution_count": 11,
   "metadata": {},
   "outputs": [
    {
     "data": {
      "text/plain": [
       "LinearRegression(copy_X=True, fit_intercept=True, n_jobs=1, normalize=False)"
      ]
     },
     "execution_count": 11,
     "metadata": {},
     "output_type": "execute_result"
    }
   ],
   "source": [
    "linear_regression_model = linear_model.LinearRegression()\n",
    "linear_regression_model.fit(features, prices)"
   ]
  },
  {
   "cell_type": "markdown",
   "metadata": {},
   "source": [
    "### Let's compare the three models side by side"
   ]
  },
  {
   "cell_type": "code",
   "execution_count": 12,
   "metadata": {},
   "outputs": [
    {
     "data": {
      "image/png": "[encoded data removed]",
      "text/plain": [
       "<matplotlib.figure.Figure at 0x218477bfa20>"
      ]
     },
     "metadata": {},
     "output_type": "display_data"
    },
    {
     "name": "stdout",
     "output_type": "stream",
     "text": [
      "R^2 Regression score: 0.0897519763234\n"
     ]
    },
    {
     "data": {
      "image/png": "[encoded data removed]",
      "text/plain": [
       "<matplotlib.figure.Figure at 0x218477bfda0>"
      ]
     },
     "metadata": {},
     "output_type": "display_data"
    },
    {
     "name": "stdout",
     "output_type": "stream",
     "text": [
      "R^2 Regression score: 0.739152647139\n"
     ]
    },
    {
     "data": {
      "image/png": "[encoded data removed]",
      "text/plain": [
       "<matplotlib.figure.Figure at 0x21847bebeb8>"
      ]
     },
     "metadata": {},
     "output_type": "display_data"
    },
    {
     "name": "stdout",
     "output_type": "stream",
     "text": [
      "R^2 Regression score: 0.693961276284\n"
     ]
    }
   ],
   "source": [
    "predict_and_plot(logistic_regression_model, test_set, \"Logistic regression\")\n",
    "predict_and_plot(linear_regression_model, test_set, \"Linear regression\")\n",
    "predict_and_plot(passive_aggressive_model, test_set, \"Passive aggressive regression\")"
   ]
  },
  {
   "cell_type": "markdown",
   "metadata": {},
   "source": [
    "# Step 4: Predict new data"
   ]
  },
  {
   "cell_type": "markdown",
   "metadata": {},
   "source": [
    "# How much would this monstrosity cost? \n",
    "![title](https://tstoaddicts.files.wordpress.com/2015/03/thehomer.png)"
   ]
  },
  {
   "cell_type": "code",
   "execution_count": null,
   "metadata": {
    "collapsed": true
   },
   "outputs": [],
   "source": [
    "print (\"Predicted price:\", linear_regression_model.predict([[11,  510,  1.0]])[0])"
   ]
  },
  {
   "cell_type": "code",
   "execution_count": null,
   "metadata": {
    "collapsed": true
   },
   "outputs": [],
   "source": []
  }
 ],
 "metadata": {
  "kernelspec": {
   "display_name": "Python 3",
   "language": "python",
   "name": "python3"
  },
  "language_info": {
   "codemirror_mode": {
    "name": "ipython",
    "version": 3
   },
   "file_extension": ".py",
   "mimetype": "text/x-python",
   "name": "python",
   "nbconvert_exporter": "python",
   "pygments_lexer": "ipython3",
   "version": "3.6.1"
  }
 },
 "nbformat": 4,
 "nbformat_minor": 2
}
