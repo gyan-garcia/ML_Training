{
 "cells": [
  {
   "cell_type": "markdown",
   "metadata": {},
   "source": [
    "# Introduction to linear regression using Python"
   ]
  },
  {
   "cell_type": "code",
   "execution_count": 1,
   "metadata": {
    "collapsed": true
   },
   "outputs": [],
   "source": [
    "from sklearn import linear_model, metrics, model_selection\n",
    "import numpy as np\n",
    "import matplotlib.pyplot as plt\n"
   ]
  },
  {
   "cell_type": "markdown",
   "metadata": {},
   "source": [
    "## Ice cream sales vs temperature data set"
   ]
  },
  {
   "cell_type": "code",
   "execution_count": 3,
   "metadata": {
    "collapsed": true
   },
   "outputs": [],
   "source": [
    "#                     Temp C   Sales\n",
    "data_set = np.array([[11.9,     185],\n",
    "                     [12.9,     190],\n",
    "                     [13.1,     192],\n",
    "                     [13.4,     196],\n",
    "                     [13.6,     200],\n",
    "                     [14.1,     220],\n",
    "                     [14.3,     251],\n",
    "                     [14.4,     255],\n",
    "                     [13.4,     214],\n",
    "                     [13.6,     223],\n",
    "                     [14.1,     230],\n",
    "                     [14.3,     260],\n",
    "                     [14.4,     255],\n",
    "                     [14.8,     319],\n",
    "                     [15.0,     309],\n",
    "                     [15.2,     305],\n",
    "                     [15.2,     300],\n",
    "                     [16.4,     332],\n",
    "                     [17.2,     420],\n",
    "                     [17.2,     400],\n",
    "                     [18.1,     412],\n",
    "                     [18.5,     440],\n",
    "                     [19.4,     415],\n",
    "                     [19.6,     436],\n",
    "                     [19.8,     470],\n",
    "                     [20.1,     440],\n",
    "                     [20.1,     460],\n",
    "                     [19.4,     435],\n",
    "                     [17.2,     385],\n",
    "                     [18.1,     405],\n",
    "                     [18.5,     420],\n",
    "                     [19.4,     435],\n",
    "                     [19.6,     430],\n",
    "                     [19.8,     445],\n",
    "                     [20.1,     439],\n",
    "                     [20.1,     451],\n",
    "                     [19.4,     410],\n",
    "                     [19.6,     420],\n",
    "                     [19.8,     415],\n",
    "                     [20.1,     430],\n",
    "                     [20.1,     490],\n",
    "                     [20.6,     485],\n",
    "                     [19.6,     446],\n",
    "                     [19.8,     440],\n",
    "                     [20.1,     476],\n",
    "                     [20.1,     460],\n",
    "                     [20.6,     485],\n",
    "                     [21.1,     460],\n",
    "                     [21.5,     520],\n",
    "                     [22.1,     495],\n",
    "                     [22.6,     560],\n",
    "                     [23.4,     543],\n",
    "                     [24.0,     569],\n",
    "                     [21.1,     458],\n",
    "                     [21.5,     512],\n",
    "                     [22.1,     508],\n",
    "                     [22.6,     530],\n",
    "                     [23.4,     546],\n",
    "                     [24.0,     540],\n",
    "                     [25.1,     614],])"
   ]
  },
  {
   "cell_type": "markdown",
   "metadata": {},
   "source": [
    "### Prepare the data"
   ]
  },
  {
   "cell_type": "code",
   "execution_count": null,
   "metadata": {
    "collapsed": true
   },
   "outputs": [],
   "source": []
  },
  {
   "cell_type": "markdown",
   "metadata": {},
   "source": [
    "## Split the data into training/testing sets"
   ]
  },
  {
   "cell_type": "code",
   "execution_count": null,
   "metadata": {
    "collapsed": true
   },
   "outputs": [],
   "source": []
  }
 ],
 "metadata": {
  "kernelspec": {
   "display_name": "Python 3",
   "language": "python",
   "name": "python3"
  },
  "language_info": {
   "codemirror_mode": {
    "name": "ipython",
    "version": 3
   },
   "file_extension": ".py",
   "mimetype": "text/x-python",
   "name": "python",
   "nbconvert_exporter": "python",
   "pygments_lexer": "ipython3",
   "version": "3.6.1"
  }
 },
 "nbformat": 4,
 "nbformat_minor": 2
}
