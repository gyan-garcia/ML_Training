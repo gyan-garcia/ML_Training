{
 "cells": [
  {
   "cell_type": "markdown",
   "metadata": {},
   "source": [
    "# Car price prediction using Python"
   ]
  },
  {
   "cell_type": "code",
   "execution_count": null,
   "metadata": {
    "collapsed": true
   },
   "outputs": [],
   "source": [
    "import os\n",
    "from sklearn import linear_model, metrics\n",
    "import numpy as np\n",
    "import matplotlib.pyplot as plt\n",
    "import pandas as pd\n",
    "import matplotlib.image as mpimg"
   ]
  },
  {
   "cell_type": "markdown",
   "metadata": {},
   "source": [
    "### Define a helper function that we'll use later to predict and evaluate the results"
   ]
  },
  {
   "cell_type": "code",
   "execution_count": null,
   "metadata": {
    "collapsed": true
   },
   "outputs": [],
   "source": [
    "def predict_and_plot(model, test_set, plot_title):\n",
    "\n",
    "    # Let's turn the data into something more readable    \n",
    "    test_set_elements_count = test_set.shape[0]\n",
    "    test_features = np.float64(test_set[0:test_set_elements_count, 0:3])\n",
    "    real_prices = np.float64(test_set[0:test_set_elements_count, 3])\n",
    "    car_names = test_set[0:test_set_elements_count, 4]\n",
    "    \n",
    "    # Do the prediction\n",
    "    predicted_prices = model.predict(test_features)\n",
    "\n",
    "    # Compare the predicted price vs the real price rendering a graph\n",
    "    x_ind = np.arange(test_set_elements_count)\n",
    "    fig = plt.figure()\n",
    "    plt.scatter(x_ind, predicted_prices,   label=\"predicted price\")\n",
    "    plt.scatter(x_ind, real_prices,  label=\"real price\")\n",
    "    plt.xticks(x_ind, car_names, rotation='vertical')\n",
    "    plt.legend(loc='best')\n",
    "    fig.suptitle(plot_title, fontsize=20)\n",
    "    plt.show()\n",
    "    \n",
    "    # Get the regression score\n",
    "    # http://scikit-learn.org/stable/modules/generated/sklearn.metrics.r2_score.html#sklearn.metrics.r2_score\n",
    "    print (\"R^2 Regression score:\", metrics.r2_score(real_prices, predicted_prices))"
   ]
  },
  {
   "cell_type": "markdown",
   "metadata": {},
   "source": [
    "## Step 1: Collect Training Data"
   ]
  },
  {
   "cell_type": "code",
   "execution_count": null,
   "metadata": {
    "collapsed": true
   },
   "outputs": [],
   "source": [
    "# https://www.cars.com/research/compare/\n",
    "df = pd.read_csv('.\\\\car_prices.csv')\n",
    "# Let's look at the data\n",
    "#df.shape\n",
    "#df.columns\n",
    "df"
   ]
  },
  {
   "cell_type": "markdown",
   "metadata": {},
   "source": [
    "### Let's get the features and prices from the dataframe so we can train the model"
   ]
  },
  {
   "cell_type": "code",
   "execution_count": null,
   "metadata": {
    "collapsed": true
   },
   "outputs": [],
   "source": [
    "features = df.as_matrix(columns= df.columns[0:3])\n",
    "prices = df.as_matrix(columns= df.columns[3:4])\n",
    "features\n",
    "#prices"
   ]
  },
  {
   "cell_type": "markdown",
   "metadata": {},
   "source": [
    "## Step 2: Train Model"
   ]
  },
  {
   "cell_type": "code",
   "execution_count": null,
   "metadata": {
    "collapsed": true,
    "scrolled": true
   },
   "outputs": [],
   "source": [
    "logistic_regression_model = linear_model.LogisticRegression()\n",
    "logistic_regression_model.fit(features, prices.ravel())"
   ]
  },
  {
   "cell_type": "markdown",
   "metadata": {},
   "source": [
    "## Step 3: Evaluate Model"
   ]
  },
  {
   "cell_type": "code",
   "execution_count": null,
   "metadata": {
    "collapsed": true
   },
   "outputs": [],
   "source": [
    "# https://www.cars.com/research/compare/?acodes=USC60KIC052A0,USC60FOC071A0,USC60BUC081A0\n",
    "#                     MPG, HP,   Rating,  Price,  Name\n",
    "test_set = np.array([[28,  185,  4.9,     22990,  \"Kia Optima\"],\n",
    "                     [21,  240,  4.8,     28095,  \"Ford Taurus\"],\n",
    "                     [23,  304,  4.3,     31990,  \"Buick Lacrosse\"],\n",
    "                     [30,  240,  5.0,     34150,  \"Volvo S60\"],\n",
    "                     [28,  150,  4.9,     22610,  \"Volkswagen Jetta\"],\n",
    "                     [35,  106,  4.0,     15700,  \"Scion iA\"],])\n",
    "\n",
    "predict_and_plot(logistic_regression_model, test_set, \"Logistic regression\")\n"
   ]
  },
  {
   "cell_type": "markdown",
   "metadata": {},
   "source": [
    "## Repeat 2 and 3: Train a model and re-evaluate "
   ]
  },
  {
   "cell_type": "code",
   "execution_count": null,
   "metadata": {
    "collapsed": true
   },
   "outputs": [],
   "source": [
    "passive_aggressive_model = linear_model.PassiveAggressiveRegressor() # Must be a Seattle thing.\n",
    "passive_aggressive_model.fit(features, prices.ravel())"
   ]
  },
  {
   "cell_type": "code",
   "execution_count": null,
   "metadata": {
    "collapsed": true
   },
   "outputs": [],
   "source": [
    "linear_regression_model = linear_model.LinearRegression()\n",
    "linear_regression_model.fit(features, prices.ravel())"
   ]
  },
  {
   "cell_type": "markdown",
   "metadata": {},
   "source": [
    "### Let's compare the three models side by side"
   ]
  },
  {
   "cell_type": "code",
   "execution_count": null,
   "metadata": {
    "collapsed": true
   },
   "outputs": [],
   "source": [
    "predict_and_plot(logistic_regression_model, test_set, \"Logistic regression\")\n",
    "predict_and_plot(linear_regression_model, test_set, \"Linear regression\")\n",
    "predict_and_plot(passive_aggressive_model, test_set, \"Passive aggressive regression (best name ever!)\")"
   ]
  },
  {
   "cell_type": "markdown",
   "metadata": {},
   "source": [
    "# Step 4: Enjoy!"
   ]
  },
  {
   "cell_type": "markdown",
   "metadata": {},
   "source": [
    "### How much the Homer mobile would cost? 82000 According to http://simpsons.wikia.com/wiki/The_Homer"
   ]
  },
  {
   "cell_type": "code",
   "execution_count": null,
   "metadata": {
    "collapsed": true
   },
   "outputs": [],
   "source": [
    "img=mpimg.imread('the_homer.png')\n",
    "imgplot = plt.imshow(img)\n",
    "plt.show()"
   ]
  },
  {
   "cell_type": "code",
   "execution_count": null,
   "metadata": {
    "collapsed": true
   },
   "outputs": [],
   "source": [
    "print (\"Predicted price:\", linear_regression_model.predict([[11,  510,  2.0]])[0])\n",
    "print (\"Predicted price:\", passive_aggressive_model.predict([[11,  510,  2.0]])[0])"
   ]
  },
  {
   "cell_type": "code",
   "execution_count": null,
   "metadata": {
    "collapsed": true
   },
   "outputs": [],
   "source": []
  }
 ],
 "metadata": {
  "kernelspec": {
   "display_name": "Python 3",
   "language": "python",
   "name": "python3"
  },
  "language_info": {
   "codemirror_mode": {
    "name": "ipython",
    "version": 3
   },
   "file_extension": ".py",
   "mimetype": "text/x-python",
   "name": "python",
   "nbconvert_exporter": "python",
   "pygments_lexer": "ipython3",
   "version": "3.6.1"
  }
 },
 "nbformat": 4,
 "nbformat_minor": 2
}
