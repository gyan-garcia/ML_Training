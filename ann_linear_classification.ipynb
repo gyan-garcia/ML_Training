{
 "cells": [
  {
   "cell_type": "markdown",
   "metadata": {},
   "source": [
    "# Deep learning regression with Keras and CNTK"
   ]
  },
  {
   "cell_type": "code",
   "execution_count": null,
   "metadata": {
    "collapsed": true
   },
   "outputs": [],
   "source": [
    "import os\n",
    "from keras.models import Sequential\n",
    "from keras.layers import Dense\n",
    "import numpy as np\n",
    "import pandas as pd\n",
    "import matplotlib.pyplot as plt\n",
    "import seaborn as sns"
   ]
  },
  {
   "cell_type": "markdown",
   "metadata": {},
   "source": [
    "## Helper function to plot the dataset"
   ]
  },
  {
   "cell_type": "code",
   "execution_count": null,
   "metadata": {
    "collapsed": true
   },
   "outputs": [],
   "source": [
    "def plot_dataset(features, labels):\n",
    "    x_coords = features[0:features.shape[0], 0:1]\n",
    "    y_coords = features[0:features.shape[0], 1:2]\n",
    "    \n",
    "    f, ax = plt.subplots(figsize=(8, 6))    \n",
    "    ax.scatter(x_coords, y_coords, c=labels, s=50, cmap=\"coolwarm\", vmin=-.2, vmax=1.2, edgecolor=\"white\", linewidth=1)   \n",
    "    plt.show()"
   ]
  },
  {
   "cell_type": "markdown",
   "metadata": {},
   "source": [
    "## Helper function to plot the decision boundary in a classification model"
   ]
  },
  {
   "cell_type": "code",
   "execution_count": null,
   "metadata": {
    "collapsed": true
   },
   "outputs": [],
   "source": [
    "def plot_classification_model_decision_boundary(model, features, labels):\n",
    "    xx, yy = np.mgrid[0:850:5, 0:850:5]\n",
    "    \n",
    "    grid = np.c_[xx.ravel(), yy.ravel()]\n",
    "    predicted_grid_probabilities = model.predict_proba(grid)\n",
    "    \n",
    "    f, ax = plt.subplots(figsize=(8, 6))\n",
    "\n",
    "    #http://matplotlib.org/examples/color/colormaps_reference.html\n",
    "    contour = ax.contourf(xx, yy, predicted_grid_probabilities.reshape(xx.shape[0],yy.shape[0]), 25, cmap=\"coolwarm\",\n",
    "                          vmin=0, vmax=1)\n",
    "    ax_c = f.colorbar(contour)\n",
    "    \n",
    "    x_coords = features[0:features.shape[0], 0:1]\n",
    "    y_coords = features[0:features.shape[0], 1:2]\n",
    "    \n",
    "    ax.scatter(x_coords, y_coords, c=labels, s=50, cmap=\"coolwarm\", vmin=-.2, vmax=1.2, edgecolor=\"white\", linewidth=1)\n",
    "    plt.show()"
   ]
  },
  {
   "cell_type": "markdown",
   "metadata": {},
   "source": [
    "## Helper function to train a deep learning model "
   ]
  },
  {
   "cell_type": "code",
   "execution_count": null,
   "metadata": {
    "collapsed": true
   },
   "outputs": [],
   "source": [
    "def train_model(features, labels, hidden_activation, output_activation, loss_function):   \n",
    "    # create model\n",
    "    model = Sequential()\n",
    "    model.add(Dense(12, input_dim=2, activation=hidden_activation)) \n",
    "    model.add(Dense(8, activation=hidden_activation))\n",
    "    model.add(Dense(1, activation=output_activation))\n",
    "    \n",
    "    # Compile model\n",
    "    model.compile(loss=loss_function, optimizer='adam', metrics=['accuracy'])   \n",
    "      \n",
    "    # Fit the model\n",
    "    model.fit(features, labels, epochs=300, batch_size=10)\n",
    "    return model"
   ]
  },
  {
   "cell_type": "code",
   "execution_count": null,
   "metadata": {
    "collapsed": true
   },
   "outputs": [],
   "source": [
    "# fix random seed for reproducibility\n",
    "np.random.seed(7)"
   ]
  },
  {
   "cell_type": "markdown",
   "metadata": {},
   "source": [
    "## Load linear dataset"
   ]
  },
  {
   "cell_type": "code",
   "execution_count": null,
   "metadata": {
    "collapsed": true
   },
   "outputs": [],
   "source": [
    "df = pd.read_csv('.\\\\regression_linear_data.csv')\n",
    "features = np.array(df.as_matrix(columns= df.columns[0:2]))\n",
    "labels = np.array(df.as_matrix(columns= df.columns[2:3]))\n",
    "#df.head(5)\n",
    "plot_dataset(features, labels)"
   ]
  },
  {
   "cell_type": "markdown",
   "metadata": {},
   "source": [
    "## Train a linear classifier"
   ]
  },
  {
   "cell_type": "markdown",
   "metadata": {},
   "source": [
    "On Keras, loss function should be 'mse' for 'linear' activation, and 'binary_crossentropy' for 'sigmoid' activation (binary classification problem). \n",
    "For more information on what loss functions and optimizers to use: https://keras.io/getting-started/sequential-model-guide/#compilation"
   ]
  },
  {
   "cell_type": "code",
   "execution_count": null,
   "metadata": {
    "collapsed": true
   },
   "outputs": [],
   "source": [
    "model = train_model(features, labels, hidden_activation='linear', output_activation='linear', loss_function='mse')"
   ]
  },
  {
   "cell_type": "markdown",
   "metadata": {},
   "source": [
    "## Plot the decision boundary for this classifier"
   ]
  },
  {
   "cell_type": "code",
   "execution_count": null,
   "metadata": {
    "collapsed": true
   },
   "outputs": [],
   "source": [
    "plot_classification_model_decision_boundary(model, features, labels)"
   ]
  },
  {
   "cell_type": "markdown",
   "metadata": {},
   "source": [
    "## Load a non-linear dataset"
   ]
  },
  {
   "cell_type": "code",
   "execution_count": null,
   "metadata": {
    "collapsed": true
   },
   "outputs": [],
   "source": [
    "df = pd.read_csv('.\\\\regression_non_linear_data.csv')\n",
    "features = np.array(df.as_matrix(columns= df.columns[0:2]))\n",
    "labels = np.array(df.as_matrix(columns= df.columns[2:3]))\n",
    "plot_dataset(features, labels)"
   ]
  },
  {
   "cell_type": "markdown",
   "metadata": {},
   "source": [
    "## Let's try a linear classifier on this data to see how it does"
   ]
  },
  {
   "cell_type": "code",
   "execution_count": null,
   "metadata": {
    "collapsed": true
   },
   "outputs": [],
   "source": [
    "model = train_model(features, labels, hidden_activation='linear', output_activation='linear', loss_function='mse')"
   ]
  },
  {
   "cell_type": "code",
   "execution_count": null,
   "metadata": {
    "collapsed": true
   },
   "outputs": [],
   "source": [
    "plot_classification_model_decision_boundary(model, features, labels)"
   ]
  },
  {
   "cell_type": "markdown",
   "metadata": {},
   "source": [
    "## Now let's train a non-linear classifier"
   ]
  },
  {
   "cell_type": "code",
   "execution_count": null,
   "metadata": {
    "collapsed": true
   },
   "outputs": [],
   "source": [
    "model = train_model(features, labels, hidden_activation='relu', output_activation='sigmoid', loss_function='binary_crossentropy')"
   ]
  },
  {
   "cell_type": "code",
   "execution_count": null,
   "metadata": {
    "collapsed": true
   },
   "outputs": [],
   "source": [
    "plot_classification_model_decision_boundary(model, features, labels)"
   ]
  }
 ],
 "metadata": {
  "kernelspec": {
   "display_name": "Python 3",
   "language": "python",
   "name": "python3"
  },
  "language_info": {
   "codemirror_mode": {
    "name": "ipython",
    "version": 3
   },
   "file_extension": ".py",
   "mimetype": "text/x-python",
   "name": "python",
   "nbconvert_exporter": "python",
   "pygments_lexer": "ipython3",
   "version": "3.6.1"
  }
 },
 "nbformat": 4,
 "nbformat_minor": 2
}
