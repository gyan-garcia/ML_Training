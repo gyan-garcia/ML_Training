{
 "cells": [
  {
   "cell_type": "markdown",
   "metadata": {},
   "source": [
    "# Introduction to linear regression using Python"
   ]
  },
  {
   "cell_type": "code",
   "execution_count": 2,
   "metadata": {
    "collapsed": true
   },
   "outputs": [],
   "source": [
    "from sklearn import linear_model, metrics, model_selection\n",
    "import numpy as np\n",
    "import matplotlib.pyplot as plt\n"
   ]
  },
  {
   "cell_type": "markdown",
   "metadata": {},
   "source": [
    "## Ice cream sales vs temperature data set"
   ]
  },
  {
   "cell_type": "code",
   "execution_count": 3,
   "metadata": {
    "collapsed": true
   },
   "outputs": [],
   "source": [
    "#                     Temp C   Sales\n",
    "data_set = np.array([[11.9,     185],\n",
    "                     [12.9,     190],\n",
    "                     [13.1,     192],\n",
    "                     [13.4,     196],\n",
    "                     [13.6,     200],\n",
    "                     [14.1,     220],\n",
    "                     [14.3,     251],\n",
    "                     [14.4,     255],\n",
    "                     [13.4,     214],\n",
    "                     [13.6,     223],\n",
    "                     [14.1,     230],\n",
    "                     [14.3,     260],\n",
    "                     [14.4,     255],\n",
    "                     [14.8,     319],\n",
    "                     [15.0,     309],\n",
    "                     [15.2,     305],\n",
    "                     [15.2,     300],\n",
    "                     [16.4,     332],\n",
    "                     [17.2,     420],\n",
    "                     [17.2,     400],\n",
    "                     [18.1,     412],\n",
    "                     [18.5,     440],\n",
    "                     [19.4,     415],\n",
    "                     [19.6,     436],\n",
    "                     [19.8,     470],\n",
    "                     [20.1,     440],\n",
    "                     [20.1,     460],\n",
    "                     [19.4,     435],\n",
    "                     [17.2,     385],\n",
    "                     [18.1,     405],\n",
    "                     [18.5,     420],\n",
    "                     [19.4,     435],\n",
    "                     [19.6,     430],\n",
    "                     [19.8,     445],\n",
    "                     [20.1,     439],\n",
    "                     [20.1,     451],\n",
    "                     [19.4,     410],\n",
    "                     [19.6,     420],\n",
    "                     [19.8,     415],\n",
    "                     [20.1,     430],\n",
    "                     [20.1,     490],\n",
    "                     [20.6,     485],\n",
    "                     [19.6,     446],\n",
    "                     [19.8,     440],\n",
    "                     [20.1,     476],\n",
    "                     [20.1,     460],\n",
    "                     [20.6,     485],\n",
    "                     [21.1,     460],\n",
    "                     [21.5,     520],\n",
    "                     [22.1,     495],\n",
    "                     [22.6,     560],\n",
    "                     [23.4,     543],\n",
    "                     [24.0,     569],\n",
    "                     [21.1,     458],\n",
    "                     [21.5,     512],\n",
    "                     [22.1,     508],\n",
    "                     [22.6,     530],\n",
    "                     [23.4,     546],\n",
    "                     [24.0,     540],\n",
    "                     [25.1,     614],])"
   ]
  },
  {
   "cell_type": "markdown",
   "metadata": {},
   "source": [
    "## Split the data into training/testing sets"
   ]
  },
  {
   "cell_type": "code",
   "execution_count": 4,
   "metadata": {
    "collapsed": true
   },
   "outputs": [],
   "source": [
    "train, test = model_selection.train_test_split(data_set, test_size = 0.3)\n",
    "\n",
    "train_X = train[0:train.shape[0], 0:1]\n",
    "train_y = train[0:train.shape[0], 1:2]\n",
    "\n",
    "test_X = test[0:test.shape[0], 0:1]\n",
    "test_y = test[0:test.shape[0], 1:2]"
   ]
  },
  {
   "cell_type": "markdown",
   "metadata": {},
   "source": [
    "### Look at the data? "
   ]
  },
  {
   "cell_type": "code",
   "execution_count": 8,
   "metadata": {},
   "outputs": [
    {
     "data": {
      "text/plain": [
       "(18, 2)"
      ]
     },
     "execution_count": 8,
     "metadata": {},
     "output_type": "execute_result"
    }
   ],
   "source": [
    "#train\n",
    "#test\n",
    "test.shape\n",
    "#train_X\n",
    "#train_y"
   ]
  },
  {
   "cell_type": "markdown",
   "metadata": {},
   "source": [
    "## Train linear regression model"
   ]
  },
  {
   "cell_type": "markdown",
   "metadata": {},
   "source": [
    "The goal of a linear regression model is fit a linear function to a set of data points.\n",
    "The function is \"Y = β0 + β1*X1 + β2*X2 + … + βn*Xn\", Where Y is the target variable, and X1, X2, ... Xn are the predictor variables and  β1, β2, … βn are the coefficients that multiply the predictor variables. β0 is constant."
   ]
  },
  {
   "cell_type": "code",
   "execution_count": 9,
   "metadata": {},
   "outputs": [
    {
     "data": {
      "text/plain": [
       "LinearRegression(copy_X=True, fit_intercept=True, n_jobs=1, normalize=False)"
      ]
     },
     "execution_count": 9,
     "metadata": {},
     "output_type": "execute_result"
    }
   ],
   "source": [
    "linear_regression_model = linear_model.LinearRegression()\n",
    "linear_regression_model.fit(train_X, train_y)"
   ]
  },
  {
   "cell_type": "markdown",
   "metadata": {},
   "source": [
    "## Get some scores"
   ]
  },
  {
   "cell_type": "code",
   "execution_count": 10,
   "metadata": {},
   "outputs": [
    {
     "name": "stdout",
     "output_type": "stream",
     "text": [
      "Mean squared error: 538.69\n",
      "Variance score: 0.95\n",
      "R^2 Regression score: 0.95329989963\n"
     ]
    }
   ],
   "source": [
    "# The mean squared error\n",
    "print(\"Mean squared error: %.2f\" \n",
    "      % np.mean((linear_regression_model.predict(test_X) - test_y) ** 2))\n",
    "\n",
    "# Explained variance score: 1 is perfect prediction\n",
    "print('Variance score: %.2f' % linear_regression_model.score(test_X, test_y))\n",
    "\n",
    "# http://scikit-learn.org/stable/modules/generated/sklearn.metrics.r2_score.html#sklearn.metrics.r2_score\n",
    "# Explained R^2 Regression score: 1 is perfect prediction\n",
    "print(\"R^2 Regression score:\", metrics.r2_score(test_y, linear_regression_model.predict(test_X)))"
   ]
  },
  {
   "cell_type": "markdown",
   "metadata": {},
   "source": [
    "## Plot!"
   ]
  },
  {
   "cell_type": "code",
   "execution_count": 11,
   "metadata": {},
   "outputs": [
    {
     "data": {
      "image/png": "[encoded data removed]",
      "text/plain": [
       "<matplotlib.figure.Figure at 0x2ca5344d080>"
      ]
     },
     "metadata": {},
     "output_type": "display_data"
    }
   ],
   "source": [
    "fig = plt.figure()\n",
    "plt.scatter(test_X, test_y, color='orange', label=\"real sales\")\n",
    "plt.plot(test_X, linear_regression_model.predict(test_X), linewidth=3, label=\"predicted sales\")\n",
    "plt.legend(loc='best')\n",
    "fig.suptitle(\"Linear regression on ice cream sales\", fontsize=20)\n",
    "plt.show()"
   ]
  },
  {
   "cell_type": "code",
   "execution_count": null,
   "metadata": {
    "collapsed": true
   },
   "outputs": [],
   "source": []
  }
 ],
 "metadata": {
  "kernelspec": {
   "display_name": "Python 3",
   "language": "python",
   "name": "python3"
  },
  "language_info": {
   "codemirror_mode": {
    "name": "ipython",
    "version": 3
   },
   "file_extension": ".py",
   "mimetype": "text/x-python",
   "name": "python",
   "nbconvert_exporter": "python",
   "pygments_lexer": "ipython3",
   "version": "3.6.1"
  }
 },
 "nbformat": 4,
 "nbformat_minor": 2
}
